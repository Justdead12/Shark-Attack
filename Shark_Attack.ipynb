{
  "nbformat": 4,
  "nbformat_minor": 0,
  "metadata": {
    "colab": {
      "name": "Shark Attack.ipynb",
      "provenance": [],
      "authorship_tag": "ABX9TyP3X06eet+OeWRZh6uec15x",
      "include_colab_link": true
    },
    "kernelspec": {
      "name": "python3",
      "display_name": "Python 3"
    },
    "language_info": {
      "name": "python"
    }
  },
  "cells": [
    {
      "cell_type": "markdown",
      "metadata": {
        "id": "view-in-github",
        "colab_type": "text"
      },
      "source": [
        "<a href=\"https://colab.research.google.com/github/Justdead12/Shark-Attack/blob/main/Shark_Attack.ipynb\" target=\"_parent\"><img src=\"https://colab.research.google.com/assets/colab-badge.svg\" alt=\"Open In Colab\"/></a>"
      ]
    },
    {
      "cell_type": "code",
      "execution_count": 108,
      "metadata": {
        "id": "p85YHG3LafOW"
      },
      "outputs": [],
      "source": [
        "import pandas as pd\n",
        "import numpy as np\n",
        "import matplotlib.pyplot as plt\n",
        "from io import StringIO\n",
        "import re\n",
        "from itertools import chain\n",
        "%reload_ext google.colab.data_table\n",
        "\n",
        "df = pd.read_csv('https://raw.githubusercontent.com/Justdead12/Shark-Attack/main/attacks.csv', encoding = 'cp1252')"
      ]
    },
    {
      "cell_type": "code",
      "source": [
        "# What are the most dangerous types of sharks to humans?\n",
        "df2 = df.drop(columns= ['Case Number', 'Year', 'Country', 'Area', 'Location', 'Sex ', 'Age', 'Time', 'Investigator or Source', 'pdf', 'href formula', 'href', 'Case Number.1', 'Case Number.2', 'original order', 'Unnamed: 22', 'Unnamed: 23'])\n",
        "df2 = df2.dropna(subset=['Species '], how= 'all')\n",
        "df2 = df2.rename(columns= {'Species ':'Species'})\n",
        "number_of_attacks = df2.groupby('Species')['Species'].count().sort_values(ascending=False)[0:15]\n",
        "\n",
        "fig, ax = plt.subplots()\n",
        "\n",
        "ax.barh(number_of_attacks.index, number_of_attacks)\n",
        "plt.xlabel('Number of Attacks')\n",
        "plt.ylabel('Discription of Shark')\n",
        "plt.title('Number of Shark Attacks')\n",
        "\n",
        "plt.show()\n",
        "\n",
        "print('\\nThe White Shark is the most dangerous shark for humans')"
      ],
      "metadata": {
        "colab": {
          "base_uri": "https://localhost:8080/",
          "height": 330
        },
        "id": "t-Y_KP7od8fV",
        "outputId": "8ebd3760-e6aa-4c39-d290-d2c35fd86273"
      },
      "execution_count": 109,
      "outputs": [
        {
          "output_type": "display_data",
          "data": {
            "text/plain": [
              "<Figure size 432x288 with 1 Axes>"
            ],
            "image/png": "[encoded data removed]"
          },
          "metadata": {
            "needs_background": "light"
          }
        },
        {
          "output_type": "stream",
          "name": "stdout",
          "text": [
            "\n",
            "The White Shark is the most dangerous shark for humans\n"
          ]
        }
      ]
    },
    {
      "cell_type": "code",
      "source": [
        "# Are children more likely to be attacked by sharks?\n",
        "df3 = df.drop(columns= ['Case Number', 'Type', 'Activity', 'Name', 'Injury', 'Species ', 'Year', 'Country', 'Area',\n",
        "                        'Location', 'Sex ', 'Time', 'Investigator or Source', 'pdf', 'href formula', 'href',\n",
        "                        'Case Number.1', 'Case Number.2', 'original order', 'Unnamed: 22', 'Unnamed: 23'])\n",
        "df3.dropna(subset=['Age'], inplace=True)\n",
        "\n",
        "def split_row(df, col, char):\n",
        "    chainer = list(chain.from_iterable(col.str.split(char)))\n",
        "    split = col.str.split(char).map(len)\n",
        "    df = pd.DataFrame({'Date':np.repeat(df['Date'], split),\n",
        "                       'Fatal (Y/N)': np.repeat(df['Fatal (Y/N)'], split),\n",
        "                       'Age': chainer})\n",
        "    return df\n",
        "\n",
        "df3 = split_row(df3, df3['Age'], '&')\n",
        "df3 = split_row(df3, df3['Age'], ',')\n",
        "df4 = split_row(df3, df3['Age'], 'or')\n",
        "\n",
        "df4['Age'] = df4['Age'].str.strip()\n",
        "df4['Age'] = df4['Age'].str.strip('s')\n",
        "df4['Age'] = (df4['Age'].replace({'\"middle-age\"': 50})\n",
        "                        .replace({'\"young\"': None})\n",
        "                        .replace({'(adult)': 20})\n",
        "                        .replace({'Teen': 17})\n",
        "                        .replace({'teen': 17})\n",
        "                        .replace({'young': None})\n",
        "                        .replace({'adult': 30})\n",
        "                        .replace({'X': None})\n",
        "                        .replace({'MAKE LINE GREEN': None})\n",
        "                        .replace({'F': None})\n",
        "                        .replace({'Elderly': 80})\n",
        "                        .replace({'Ca. 33': 33})\n",
        "                        .replace({'Both 11': 11})\n",
        "                        .replace({'A.M.': None})\n",
        "                        .replace({'>50': 51})\n",
        "                        .replace({'9 or 10': 10})\n",
        "                        .replace({'18 months': 1})\n",
        "                        .replace({'9 months': 0})\n",
        "                        .replace({'2 to 3 months': 0})\n",
        "                        .replace({'': None})\n",
        "                        .replace({'?': None})\n",
        "                        .replace({'6½': 6})\n",
        "                        .replace({str(\"60's\"): 65})\n",
        "                        .replace({'25 to 35': 30})\n",
        "                        .replace({'16 to 18': 17})\n",
        "                        .replace({', ': None})\n",
        "                        .replace({'18 month': 1})\n",
        "                        .replace({'mid-30': 35})\n",
        "                        .replace({'mid-20': 25})\n",
        "                        .replace({'9 month': 1})\n",
        "                        .replace({str(\"60'\"): 60})\n",
        "                        .replace({'18 to 22': 20})\n",
        "                        .replace({'20?': 20})\n",
        "                        .replace({'2 to 3 month': 1})\n",
        "                        .replace({'9 month': 1})\n",
        "                        .replace({'2½': 1}))\n",
        "df4 = df4.dropna(subset= ['Age'], how='all')\n",
        "df4['Age'] = df4['Age'].astype(int)\n",
        "df4 = df4.reset_index()\n",
        "\n",
        "def age_under_18(df):\n",
        "    count = 0\n",
        "    for i in df:\n",
        "      if i < 18:\n",
        "        count += 1\n",
        "    return count\n",
        "\n",
        "def age_18_and_above(df):\n",
        "    count = 0\n",
        "    for i in df:\n",
        "      if i >= 18:\n",
        "        count += 1\n",
        "    return count\n",
        "\n",
        "attacked_children = age_under_18(df4['Age'])          \n",
        "attacked_adults = age_18_and_above(df4['Age'])\n",
        "\n",
        "print(f'Number of children attacted by sharks:\\n{attacked_children}')\n",
        "print(f'Number of adults attacted by sharks:\\n{attacked_adults}')\n",
        "\n",
        "print(f'\\nAlthough some values are deleted, because they were not clearly adult or child, it is clear that adults are more likely to be attacked then children.')"
      ],
      "metadata": {
        "colab": {
          "base_uri": "https://localhost:8080/"
        },
        "id": "t40abJgobpzu",
        "outputId": "55496f10-4a04-4a46-bbca-2cafa8599f12"
      },
      "execution_count": 110,
      "outputs": [
        {
          "output_type": "stream",
          "name": "stdout",
          "text": [
            "Number of children attacted by sharks:\n",
            "951\n",
            "Number of adults attacted by sharks:\n",
            "2549\n",
            "\n",
            "Although some values are deleted, because they were not clearly adult or child, it is clear that adults are more likely to be attacked then children.\n"
          ]
        }
      ]
    },
    {
      "cell_type": "code",
      "source": [
        "# Are shark attacks where sharks were provoked more or less dangerous?\n",
        "df6 = df.drop(columns= ['Case Number', 'Age', 'Name', 'Injury', 'Species ', 'Year', 'Country', 'Area',\n",
        "                        'Location', 'Sex ', 'Time', 'Investigator or Source', 'pdf', 'href formula', 'href',\n",
        "                        'Case Number.1', 'Case Number.2', 'original order', 'Unnamed: 22', 'Unnamed: 23'])\n",
        "df6.dropna(subset=['Type'], inplace=True)\n",
        "\n",
        "# Delete unclear types.\n",
        "df6['Type'] = df6['Type'].replace('Questionable', None)\n",
        "df6['Type'] = df6['Type'].replace('Invalid', None)\n",
        "df6.dropna(subset=['Type'], inplace=True)\n",
        "# Set other types to provoked or unprovoked and change Activity when it is checked.\n",
        "\n",
        "def make_provoked(col1, col2, name1):\n",
        "  for i in col1:\n",
        "    if i is not 'Provoked' or 'Unprovoked':\n",
        "      df6.loc[df6[col2] == name1, col1] = 'Provoked'\n",
        "      df6.loc[df6[col1] == 'Provoked', col2] = 'Checked'\n",
        "      df6.loc[df6[col1] == 'Unprovoked', col2] = 'Checked'\n",
        "\n",
        "def make_unprovoked(col1, col2, name1):\n",
        "  for i in col1:\n",
        "    if i is not 'Provoked' or 'Unprovoked':\n",
        "      df6.loc[df6[col2] == name1, col1] = 'Unprovoked'\n",
        "      df6.loc[df6[col1] == 'Provoked', col2] = 'Checked'\n",
        "      df6.loc[df6[col1] == 'Unprovoked', col2] = 'Checked'\n",
        "\n",
        "make_provoked('Type', 'Activity', 'Paddling')\n",
        "make_provoked('Type', 'Activity', 'Fishing')\n",
        "make_provoked('Type', 'Activity', 'Surfing')\n",
        "make_provoked('Type', 'Activity', 'Kayaking')\n",
        "make_provoked('Type', 'Activity', 'Rowing')\n",
        "make_provoked('Type', 'Activity', 'Kayak Fishing')\n",
        "\n",
        "make_unprovoked('Type', 'Activity', 'Swimming')\n",
        "make_unprovoked('Type', 'Activity', 'Sea Disaster')\n",
        "make_unprovoked('Type', 'Activity', 'Sea disaster')\n",
        "\n",
        "df6.loc[df6['Activity'] != 'Checked', 'Type'] = 'Unprovoked'\n",
        "df6.loc[df6['Type'] == 'Unprovoked', 'Activity'] = 'Checked'\n",
        "\n",
        "# Count the fatal attack that were profoked or not.\n",
        "\n",
        "only_fatal = df6.loc[df6['Fatal (Y/N)'] == 'Y']\n",
        "\n",
        "def provoked():\n",
        "  count = 0\n",
        "  for i in only_fatal['Type']:\n",
        "    if i == 'Provoked':\n",
        "      count += 1\n",
        "  return count\n",
        "\n",
        "def unprovoked():\n",
        "  count = 0\n",
        "  for i in only_fatal['Type']:\n",
        "    if i == 'Unprovoked':\n",
        "      count += 1\n",
        "  return count\n",
        "\n",
        "print(f'Number of attacks provoked and fatal:\\n{provoked()}')\n",
        "print(f'Number of attacks unprovoked and fatal:\\n{unprovoked()}')\n",
        "\n",
        "print('\\nIt depends on when you think an attack is provoked. When I Googled, most of the things\\nI found were seen as provoked.')\n",
        "print('So I counted a lot of attacks as provoked, though there are more unprovoked fatal shark\\nattacks then provoked fatal shark attacks')"
      ],
      "metadata": {
        "colab": {
          "base_uri": "https://localhost:8080/"
        },
        "id": "QuvYTUgyu6Hh",
        "outputId": "683a354a-327a-4cf7-dc9c-3f34fce9c727"
      },
      "execution_count": 170,
      "outputs": [
        {
          "output_type": "stream",
          "name": "stdout",
          "text": [
            "Number of attacks provoked and fatal:\n",
            "23\n",
            "Number of attacks unprovoked and fatal:\n",
            "1363\n",
            "\n",
            "It depends on when you think an attack is provoked. When I Googled, most of the things\n",
            "I found were seen as provoked.\n",
            "So I counted a lot of things as provoked, though there are more unprovoked fatal shark\n",
            "attacks then provoked fatal shark attacks\n"
          ]
        }
      ]
    },
    {
      "cell_type": "code",
      "source": [
        "# Are shark attacks where sharks were provoked more or less dangerous?\n",
        "df7 = df.drop(columns= ['Case Number', 'Age', 'Name', 'Injury', 'Species ', 'Year', 'Country', 'Area',\n",
        "                        'Location', 'Sex ', 'Time', 'Investigator or Source', 'pdf', 'href formula', 'href',\n",
        "                        'Case Number.1', 'Case Number.2', 'original order', 'Unnamed: 22', 'Unnamed: 23'])\n",
        "df7.dropna(subset=['Type'], inplace=True)\n",
        "\n",
        "count_activity = (df7['Activity'].value_counts())\n",
        "display(count_activity.head(10))\n",
        "\n",
        "print('\\nThere are 2 types of activity that seems to attract more often sharks.\\nThose are surfing and swimming')"
      ],
      "metadata": {
        "colab": {
          "base_uri": "https://localhost:8080/",
          "height": 260
        },
        "id": "VCxXwp9lGdfQ",
        "outputId": "bc6f9e78-0a49-4e7b-9a18-9c442d5bcf81"
      },
      "execution_count": 181,
      "outputs": [
        {
          "output_type": "display_data",
          "data": {
            "text/plain": [
              "Surfing         970\n",
              "Swimming        869\n",
              "Fishing         430\n",
              "Spearfishing    333\n",
              "Bathing         162\n",
              "Wading          149\n",
              "Diving          126\n",
              "Standing         99\n",
              "Snorkeling       89\n",
              "Scuba diving     76\n",
              "Name: Activity, dtype: int64"
            ]
          },
          "metadata": {}
        },
        {
          "output_type": "stream",
          "name": "stdout",
          "text": [
            "\n",
            "There are 2 types of activity that seems to attract more often sharks.\n",
            "Those are surfing and swimming\n"
          ]
        }
      ]
    },
    {
      "cell_type": "code",
      "source": [
        ""
      ],
      "metadata": {
        "id": "EMoOI-MOHXfh"
      },
      "execution_count": null,
      "outputs": []
    }
  ]
}